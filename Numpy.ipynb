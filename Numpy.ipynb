{
  "nbformat": 4,
  "nbformat_minor": 0,
  "metadata": {
    "colab": {
      "provenance": [],
      "authorship_tag": "ABX9TyPx3XQHC+iI0G2Y7A49VZNM",
      "include_colab_link": true
    },
    "kernelspec": {
      "name": "python3",
      "display_name": "Python 3"
    },
    "language_info": {
      "name": "python"
    }
  },
  "cells": [
    {
      "cell_type": "markdown",
      "metadata": {
        "id": "view-in-github",
        "colab_type": "text"
      },
      "source": [
        "<a href=\"https://colab.research.google.com/github/Lakshmimadira/Data-Science-Tutorial/blob/main/Numpy.ipynb\" target=\"_parent\"><img src=\"https://colab.research.google.com/assets/colab-badge.svg\" alt=\"Open In Colab\"/></a>"
      ]
    },
    {
      "cell_type": "code",
      "execution_count": 1,
      "metadata": {
        "colab": {
          "base_uri": "https://localhost:8080/"
        },
        "id": "PUil4Tk46NJJ",
        "outputId": "671946b9-c238-40c4-d97f-7756f19048bb"
      },
      "outputs": [
        {
          "output_type": "stream",
          "name": "stdout",
          "text": [
            "using the + operator: [ 3  7 11 15]\n",
            "using the add() function: [ 3  7 11 15]\n",
            "using the - operator: [ 1  5 19 65]\n",
            "using the subtract() function: [ 1  5 19 65]\n",
            "using the * operator: [ 2 12 30 56]\n",
            "using the multiply() function: [ 2 12 30 56]\n",
            "using the / operator: [0.25 0.4  0.5 ]\n",
            "using the divide() function: [0.25 0.4  0.5 ]\n",
            "using the ** operator: [1 4 9]\n",
            "using the power() function: [1 4 9]\n",
            "using the + operator: [1 0 6]\n",
            "using the mod() function: [1 0 6]\n"
          ]
        }
      ],
      "source": [
        "#Arthimatic operations\n",
        "import numpy as np\n",
        "\n",
        "first_array=np.array([1,3,5,7])\n",
        "second_array=np.array([2,4,6,8])\n",
        "#using the + operator\n",
        "result1=first_array + second_array\n",
        "print(\"using the + operator:\",result1)\n",
        "#using the add() function\n",
        "result2=np.add(first_array,second_array)\n",
        "print(\"using the add() function:\",result2)\n",
        "\n",
        "first_array=np.array([3,9,27,81])\n",
        "second_array=np.array([2,4,8,16])\n",
        "#using the - operator\n",
        "result1=first_array - second_array\n",
        "print(\"using the - operator:\",result1)\n",
        "#using the subtract() function\n",
        "result2=np.subtract(first_array,second_array)\n",
        "print(\"using the subtract() function:\",result2)\n",
        "\n",
        "first_array=np.array([1,3,5,7])\n",
        "second_array=np.array([2,4,6,8])\n",
        "#using the * operator\n",
        "result1=first_array * second_array\n",
        "print(\"using the * operator:\",result1)\n",
        "#using the multiply() function\n",
        "result2=np.multiply(first_array,second_array)\n",
        "print(\"using the multiply() function:\",result2)\n",
        "\n",
        "first_array=np.array([1,2,3])\n",
        "second_array=np.array([4,5,6])\n",
        "#using the / operator\n",
        "result1=first_array / second_array\n",
        "print(\"using the / operator:\",result1)\n",
        "#using the divide() function\n",
        "result2=np.divide(first_array,second_array)\n",
        "print(\"using the divide() function:\",result2)\n",
        "\n",
        "array1=np.array([1,2,3])\n",
        "#using the ** operator\n",
        "result1=array1**2\n",
        "print(\"using the ** operator:\",result1)\n",
        "#using the power() function\n",
        "result2=np.power(array1,2)\n",
        "print(\"using the power() function:\",result2)\n",
        "\n",
        "first_array=np.array([9,10,20])\n",
        "second_array=np.array([2,5,7])\n",
        "#using the % operator\n",
        "result1=first_array % second_array\n",
        "print(\"using the + operator:\",result1)\n",
        "#using the mod() function\n",
        "result2=np.mod(first_array,second_array)\n",
        "print(\"using the mod() function:\",result2)\n"
      ]
    },
    {
      "cell_type": "code",
      "source": [
        "import numpy as np\n",
        "\n",
        "#create an array using np.array()\n",
        "array1=np.array([1,3,5])\n",
        "print(\"np.array():\\n\",array1)\n",
        "\n",
        "#create an array filled with zeros using np.zeros()\n",
        "array2=np.zeros((3,3))\n",
        "print(\"\\nnp.zeros():\\n\",array2)\n",
        "\n",
        "#create an array filled with ones using np.ones()\n",
        "array3=np.ones((2,4))\n",
        "print(\"\\nnp.ones():\\n\",array3)\n",
        "\n",
        "#create a 1D array\n",
        "array1=np.array([1,3,5,7,9,11])\n",
        "\n",
        "#reshape the 1D array into a 2D array\n",
        "array2=np.reshape(array1,(2,3))\n",
        "\n",
        "#transpose 2D array\n",
        "array3=np.transpose(array2)\n",
        "\n",
        "print(\"\\nOriginal array:\\n\",array1)\n",
        "print(\"\\nReshaped array:\\n\",array2)\n",
        "print(\"\\nTransposed array:\\n\",array3)\n",
        "\n",
        "#create a numpy array\n",
        "marks=np.array([76,78,81,66,85])\n",
        "\n",
        "#compute the mean of marks\n",
        "mean_marks=np.mean(marks)\n",
        "print(\"\\nmean:\",mean_marks)\n",
        "\n",
        "#compute the median of marks\n",
        "median_marks=np.median(marks)\n",
        "print(\"median:\",median_marks)\n",
        "\n",
        "#find the minimum and maximum marks\n",
        "min_marks=np.min(marks)\n",
        "print(\"minimum marks:\",min_marks)\n",
        "max_marks=np.max(marks)\n",
        "print(\"maximum marks:\",max_marks)\n"
      ],
      "metadata": {
        "colab": {
          "base_uri": "https://localhost:8080/"
        },
        "id": "VRO1GTXU6grm",
        "outputId": "7e63e867-e2b2-4de5-840e-72b3d927f7a5"
      },
      "execution_count": 4,
      "outputs": [
        {
          "output_type": "stream",
          "name": "stdout",
          "text": [
            "np.array():\n",
            " [1 3 5]\n",
            "\n",
            "np.zeros():\n",
            " [[0. 0. 0.]\n",
            " [0. 0. 0.]\n",
            " [0. 0. 0.]]\n",
            "\n",
            "np.ones():\n",
            " [[1. 1. 1. 1.]\n",
            " [1. 1. 1. 1.]]\n",
            "\n",
            "Original array:\n",
            " [ 1  3  5  7  9 11]\n",
            "\n",
            "Reshaped array:\n",
            " [[ 1  3  5]\n",
            " [ 7  9 11]]\n",
            "\n",
            "Transposed array:\n",
            " [[ 1  7]\n",
            " [ 3  9]\n",
            " [ 5 11]]\n",
            "\n",
            "mean: 77.2\n",
            "median: 78.0\n",
            "minimum marks: 66\n",
            "maximum marks: 85\n"
          ]
        }
      ]
    },
    {
      "cell_type": "code",
      "source": [
        "#logical operations\n",
        "import numpy as np\n",
        "array1=np.array([1,2,3])\n",
        "array2=np.array([3,2,1])\n",
        "\n",
        "#less than operator\n",
        "result1=array1<array2\n",
        "print(\"array1<array2:\",result1)\n",
        "\n",
        "#greater than operator\n",
        "result1=array1>array2\n",
        "print(\"array1>array2:\",result1)\n",
        "\n",
        "#equal to operator\n",
        "result3=array1==array2\n",
        "print(\"array1==array2:\",result1)\n",
        "\n",
        "#useof less()\n",
        "result=np.less(array1,array2)\n",
        "print(\"using less():\",result)\n",
        "\n",
        "#use of less_equal\n",
        "result=np.less_equal(array1,array2)\n",
        "print(\"using less_equal():\",result)\n",
        "\n",
        "#use of greater()\n",
        "result=np.greater(array1,array2)\n",
        "print(\"using greater():\",result)\n",
        "\n",
        "#use of greater_equal()\n",
        "result=np.greater_equal(array1,array2)\n",
        "print(\"using greater_equal():\",result)\n",
        "\n",
        "#use of equal()\n",
        "result=np.equal(array1,array2)\n",
        "print(\"using equal():\",result)\n",
        "\n",
        "#use of not_equal()\n",
        "result=np.not_equal(array1,array2)\n",
        "print(\"using not_equal():\",result)"
      ],
      "metadata": {
        "colab": {
          "base_uri": "https://localhost:8080/"
        },
        "id": "o0_SzYQw6pxq",
        "outputId": "4b2145e1-34e6-458b-c489-1bac8ecbbf3d"
      },
      "execution_count": 5,
      "outputs": [
        {
          "output_type": "stream",
          "name": "stdout",
          "text": [
            "array1<array2: [ True False False]\n",
            "array1>array2: [False False  True]\n",
            "array1==array2: [False False  True]\n",
            "using less(): [ True False False]\n",
            "using less_equal(): [ True  True False]\n",
            "using greater(): [False False  True]\n",
            "using greater_equal(): [False  True  True]\n",
            "using equal(): [False  True False]\n",
            "using not_equal(): [ True False  True]\n"
          ]
        }
      ]
    }
  ]
}